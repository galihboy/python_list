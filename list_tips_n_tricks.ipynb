{
  "cells":[
    {
      "cell_type":"markdown",
      "source":[
        "# Tips dan Trick Menggunakan List\n",
        "### Ditulis oleh Galih Hermawan [https:\/\/galih.eu - https:\/\/masgalih.medium.com]"
      ],
      "attachments":{
        
      },
      "metadata":{
        
      }
    },
    {
      "cell_type":"markdown",
      "source":[
        "#### Tips 1. Membuat string dari isi list"
      ],
      "attachments":{
        
      },
      "metadata":{
        
      }
    },
    {
      "cell_type":"code",
      "source":[
        "daftar = ['aku', 'cinta', 'indonesia']\n",
        "\n",
        "# digabung dengan separator 'spasi'\n",
        "teks = \" \".join(daftar)\n",
        "print(\"Teks 1: \", teks)\n",
        "\n",
        "# contoh dengan pemisah '_'\n",
        "teks2 = \"_\".join(daftar)\n",
        "print(\"Teks 2: \", teks2)"
      ],
      "execution_count":3,
      "outputs":[
        {
          "name":"stdout",
          "text":[
            "Teks 1:  aku cinta indonesia\n",
            "Teks 2:  aku_cinta_indonesia\n"
          ],
          "output_type":"stream"
        }
      ],
      "metadata":{
        
      }
    },
    {
      "cell_type":"markdown",
      "source":[
        "#### Tips 2. Memeriksa apakah sebuah list ada isinya atau tidak"
      ],
      "attachments":{
        
      },
      "metadata":{
        
      }
    },
    {
      "cell_type":"code",
      "source":[
        "keranjang1 = [\"jeruk\", \"anggur\", \"manggis\"]\n",
        "keranjang2 = []\n",
        "\n",
        "# cara lama\n",
        "if len(keranjang1) > 0: \n",
        "    print(\"Keranjang 1 ada isinya\")\n",
        "else:\n",
        "    print(\"Keranjang 1 kosong\")\n",
        "\n",
        "if len(keranjang2) == 0: \n",
        "    print(\"Keranjang 2 kosong\")\n",
        "else:\n",
        "    print(\"Keranjang 2 ada isinya\")"
      ],
      "execution_count":5,
      "outputs":[
        {
          "name":"stdout",
          "text":[
            "Keranjang 1 ada isinya\n",
            "Keranjang 2 kosong\n"
          ],
          "output_type":"stream"
        }
      ],
      "metadata":{
        
      }
    },
    {
      "cell_type":"code",
      "source":[
        "# cara baru\n",
        "if keranjang1: \n",
        "    print(\"Keranjang 1 ada isinya\")\n",
        "else:\n",
        "    print(\"Keranjang 1 kosong\")\n",
        "    \n",
        "if not keranjang2: \n",
        "    print(\"Keranjang 2 kosong\")\n",
        "else:\n",
        "    print(\"Keranjang 2 ada isinya\")"
      ],
      "execution_count":7,
      "outputs":[
        {
          "name":"stdout",
          "text":[
            "Keranjang 1 ada isinya\n",
            "Keranjang 2 kosong\n"
          ],
          "output_type":"stream"
        }
      ],
      "metadata":{
        
      }
    },
    {
      "cell_type":"markdown",
      "source":[
        "#### Tip 3. Menggabung isi list"
      ],
      "attachments":{
        
      },
      "metadata":{
        
      }
    },
    {
      "cell_type":"code",
      "source":[
        "listBenda = [\"Daun\", \"Rambut\", \"Langit\"]\n",
        "listWarna = [\"Hijau\", \"Hitam\", \"Biru\"]\n",
        "\n",
        "listGabungan = listBenda + listWarna\n",
        "\n",
        "print(listGabungan)"
      ],
      "execution_count":1,
      "outputs":[
        {
          "name":"stdout",
          "text":[
            "['Daun', 'Rambut', 'Langit', 'Hijau', 'Hitam', 'Biru']\n"
          ],
          "output_type":"stream"
        }
      ],
      "metadata":{
        
      }
    },
    {
      "cell_type":"code",
      "source":[
        "# mengakses isi list hasil zip dari dua list\n",
        "listGabungan2 = zip(listBenda, listWarna)\n",
        "for benda, warna in listGabungan2:\n",
        "    print(benda,warna)"
      ],
      "execution_count":3,
      "outputs":[
        {
          "name":"stdout",
          "text":[
            "Daun Hijau\n",
            "Rambut Hitam\n",
            "Langit Biru\n"
          ],
          "output_type":"stream"
        }
      ],
      "metadata":{
        
      }
    },
    {
      "cell_type":"code",
      "source":[
        "# konversi dari zip ke list\n",
        "listGabungan3 = list(zip(listBenda, listWarna))\n",
        "print(listGabungan3)\n",
        "\n",
        "# koversi dari zip ke dictionary (kamus)\n",
        "kamus = dict(zip(listBenda, listWarna))\n",
        "print(kamus)\n",
        "\n",
        "# menggabung isi list per item secara berdampingan\n",
        "listGabungan4 = []\n",
        "for benda, warna in zip(listBenda, listWarna):\n",
        "    listGabungan4.extend((benda, warna))\n",
        "    \n",
        "print(listGabungan4)"
      ],
      "execution_count":5,
      "outputs":[
        {
          "name":"stdout",
          "text":[
            "[('Daun', 'Hijau'), ('Rambut', 'Hitam'), ('Langit', 'Biru')]\n",
            "{'Daun': 'Hijau', 'Rambut': 'Hitam', 'Langit': 'Biru'}\n",
            "['Daun', 'Hijau', 'Rambut', 'Hitam', 'Langit', 'Biru']\n"
          ],
          "output_type":"stream"
        }
      ],
      "metadata":{
        
      }
    },
    {
      "cell_type":"markdown",
      "source":[
        "#### Tips 4. Mengembalikan indeks nilai hasil pencarian"
      ],
      "attachments":{
        
      },
      "metadata":{
        
      }
    },
    {
      "cell_type":"code",
      "source":[
        "angkaAcak = [2,3,4,6,4,5,2,7,9,7,2]\n",
        "angkaCari = 2\n",
        "print(angkaAcak.index(angkaCari))\n",
        "#print(angkaAcak.index(10)) # ValueError: 10 is not in list\n",
        "\n",
        "print(angkaAcak.index(angkaCari,1))\n",
        "print(angkaAcak.index(angkaCari,7))\n"
      ],
      "execution_count":8,
      "outputs":[
        {
          "name":"stdout",
          "text":[
            "0\n",
            "6\n",
            "10\n"
          ],
          "output_type":"stream"
        }
      ],
      "metadata":{
        
      }
    },
    {
      "cell_type":"code",
      "source":[
        "# pencarian via looping\n",
        "for idx,angka in enumerate(angkaAcak):\n",
        "    if angka == angkaCari:\n",
        "        print(idx)"
      ],
      "execution_count":9,
      "outputs":[
        {
          "name":"stdout",
          "text":[
            "0\n",
            "6\n",
            "10\n"
          ],
          "output_type":"stream"
        }
      ],
      "metadata":{
        
      }
    },
    {
      "cell_type":"code",
      "source":[
        "\n",
        "# looping versi pendek - list comprehension\n",
        "lstCari = [idx for idx,angka in enumerate(angkaAcak) if angka == angkaCari]\n",
        "print(lstCari)"
      ],
      "execution_count":11,
      "outputs":[
        {
          "name":"stdout",
          "text":[
            "[0, 6, 10]\n"
          ],
          "output_type":"stream"
        }
      ],
      "metadata":{
        
      }
    },
    {
      "cell_type":"code",
      "source":[
        "# menampilkan indeks dan nilai dari angka ganjil\n",
        "lstCari = [[idx,angka] for idx,angka in enumerate(angkaAcak) if angka % 2 == 1]\n",
        "print(lstCari)"
      ],
      "execution_count":13,
      "outputs":[
        {
          "name":"stdout",
          "text":[
            "[[1, 3], [5, 5], [7, 7], [8, 9], [9, 7]]\n"
          ],
          "output_type":"stream"
        }
      ],
      "metadata":{
        
      }
    },
    {
      "cell_type":"markdown",
      "source":[
        "#### Tips 5. Menghitung jumlah kemunculan dari suatu nilai"
      ],
      "attachments":{
        
      },
      "metadata":{
        
      }
    },
    {
      "cell_type":"code",
      "source":[
        "\n",
        "angkaAcak = [2,3,4,6,4,5,2,7,9,7,2]\n",
        "angkaCari = 2\n",
        "\n",
        "jml = angkaAcak.count(angkaCari)\n",
        "print(f\"Angka {angkaCari} ditemukan sejumlah {jml} kali\")\n",
        "\n",
        "# menemukan bilangan ganjil\n",
        "angkaGanjil = [angka for angka in angkaAcak if angka % 2 == 1]\n",
        "print(angkaGanjil)\n",
        "print(f\"Jumlah: {len(angkaGanjil)}\")"
      ],
      "execution_count":17,
      "outputs":[
        {
          "name":"stdout",
          "text":[
            "Angka 2 ditemukan sejumlah 3 kali\n",
            "[3, 5, 7, 9, 7]\n",
            "Jumlah: 5\n"
          ],
          "output_type":"stream"
        }
      ],
      "metadata":{
        
      }
    },
    {
      "cell_type":"code",
      "source":[
        "# ubah list ke set untuk mendapatkan angka unik \n",
        "angkaGanjilUnik = [angka for angka in set(angkaAcak) if angka % 2 == 1]\n",
        "print(angkaGanjilUnik)\n",
        "print(f\"Jumlah: {len(angkaGanjilUnik)}\")"
      ],
      "execution_count":18,
      "outputs":[
        {
          "name":"stdout",
          "text":[
            "[3, 5, 7, 9]\n",
            "Jumlah: 4\n"
          ],
          "output_type":"stream"
        }
      ],
      "metadata":{
        
      }
    },
    {
      "cell_type":"markdown",
      "source":[
        "#### Tips 6. Menampilkan data secara unik"
      ],
      "attachments":{
        
      },
      "metadata":{
        
      }
    },
    {
      "cell_type":"code",
      "source":[
        "\n",
        "angkaAcak = [2,3,4,6,4,5,2,7,9,7,2]\n",
        "angkaUnik = set(angkaAcak)\n",
        "\n",
        "print(angkaUnik)\n",
        "print(list(angkaUnik))"
      ],
      "execution_count":15,
      "outputs":[
        {
          "name":"stdout",
          "text":[
            "{2, 3, 4, 5, 6, 7, 9}\n",
            "[2, 3, 4, 5, 6, 7, 9]\n"
          ],
          "output_type":"stream"
        }
      ],
      "metadata":{
        
      }
    },
    {
      "cell_type":"markdown",
      "source":[
        "#### Tips 7. Menampilkan isi list yang ada pada list lain"
      ],
      "attachments":{
        
      },
      "metadata":{
        
      }
    },
    {
      "cell_type":"code",
      "source":[
        "barang1 = ['buku', 'pensil', 'penggaris']\n",
        "barang2 = ['penghapus', 'kertas', 'buku']\n",
        "\n",
        "barangSama = [b for b in barang1 for b2 in barang2 if b==b2]\n",
        "print(barangSama)"
      ],
      "execution_count":19,
      "outputs":[
        {
          "name":"stdout",
          "text":[
            "['buku']\n"
          ],
          "output_type":"stream"
        }
      ],
      "metadata":{
        
      }
    },
    {
      "cell_type":"markdown",
      "source":[
        "#### Tips 8. Menampilkan isi dari dua list yang tidak beririsan"
      ],
      "attachments":{
        
      },
      "metadata":{
        
      }
    },
    {
      "cell_type":"code",
      "source":[
        "\n",
        "barang1 = ['buku', 'pensil', 'penggaris']\n",
        "barang2 = ['penghapus', 'kertas', 'buku']\n",
        "\n",
        "set_barang1 = set(barang1)\n",
        "set_barang2 = set(barang2)\n",
        "\n",
        "listBarang = list(set_barang1.symmetric_difference(set_barang2))\n",
        "print(listBarang)"
      ],
      "execution_count":20,
      "outputs":[
        {
          "name":"stdout",
          "text":[
            "['pensil', 'penggaris', 'kertas', 'penghapus']\n"
          ],
          "output_type":"stream"
        }
      ],
      "metadata":{
        
      }
    },
    {
      "cell_type":"markdown",
      "source":[
        "#### Tips 9. Mengurutkan data"
      ],
      "attachments":{
        
      },
      "metadata":{
        
      }
    },
    {
      "cell_type":"code",
      "source":[
        "angkaAcak = [2,3,4,6,4,5,2,7,9,7,2]\n",
        "\n",
        "dataUrutAsc = sorted(angkaAcak)\n",
        "dataUrutDesc = sorted(angkaAcak,reverse=True)\n",
        "\n",
        "print(dataUrutAsc)\n",
        "print(dataUrutDesc)\n",
        "print(angkaAcak)"
      ],
      "execution_count":23,
      "outputs":[
        {
          "name":"stdout",
          "text":[
            "[2, 2, 2, 3, 4, 4, 5, 6, 7, 7, 9]\n",
            "[9, 7, 7, 6, 5, 4, 4, 3, 2, 2, 2]\n",
            "[2, 3, 4, 6, 4, 5, 2, 7, 9, 7, 2]\n"
          ],
          "output_type":"stream"
        }
      ],
      "metadata":{
        
      }
    },
    {
      "cell_type":"code",
      "source":[
        "# modifikasi isi list dengan data berurut\n",
        "angkaAcak.sort()\n",
        "print(angkaAcak)"
      ],
      "execution_count":27,
      "outputs":[
        {
          "name":"stdout",
          "text":[
            "[2, 2, 2, 3, 4, 4, 5, 6, 7, 7, 9]\n"
          ],
          "output_type":"stream"
        }
      ],
      "metadata":{
        
      }
    },
    {
      "cell_type":"code",
      "source":[
        "# data unik dan urut (otomatis oleh tipe data set)\n",
        "angkaAcakDua = [2,3,4,6,4,5,2,7,9,7,2]\n",
        "dataUrutUnik = list(set(angkaAcakDua))\n",
        "print(dataUrutUnik)"
      ],
      "execution_count":26,
      "outputs":[
        {
          "name":"stdout",
          "text":[
            "[2, 3, 4, 5, 6, 7, 9]\n"
          ],
          "output_type":"stream"
        }
      ],
      "metadata":{
        
      }
    },
    {
      "cell_type":"markdown",
      "source":[
        "#### Tips 10. Membongkar elemen list dengan *"
      ],
      "attachments":{
        
      },
      "metadata":{
        
      }
    },
    {
      "cell_type":"code",
      "source":[
        "angkaAcak = [2,3,4,6,4,5,2,7,9,7,2]\n",
        "\n",
        "# strAngka = \" \".join(angkaAcak) # error\n",
        "print(*angkaAcak)\n",
        "\n",
        "print(*set(angkaAcak))"
      ],
      "execution_count":31,
      "outputs":[
        {
          "name":"stdout",
          "text":[
            "2 3 4 6 4 5 2 7 9 7 2\n",
            "2 3 4 5 6 7 9\n"
          ],
          "output_type":"stream"
        }
      ],
      "metadata":{
        
      }
    },
    {
      "cell_type":"code",
      "source":[
        "buah = ['jeruk', 'mangga', 'nanas', 'apel', 'manggis']\n",
        "\n",
        "b_satu, *b_sisa = buah\n",
        "print(b_satu)\n",
        "print(b_sisa)\n"
      ],
      "execution_count":29,
      "outputs":[
        {
          "name":"stdout",
          "text":[
            "jeruk\n",
            "['mangga', 'nanas', 'apel', 'manggis']\n"
          ],
          "output_type":"stream"
        }
      ],
      "metadata":{
        
      }
    },
    {
      "cell_type":"code",
      "source":[
        "b_satu, *b_tengah, b_akhir = buah\n",
        "print(b_satu)\n",
        "print(b_tengah)\n",
        "print(b_akhir)"
      ],
      "execution_count":30,
      "outputs":[
        {
          "name":"stdout",
          "text":[
            "jeruk\n",
            "['mangga', 'nanas', 'apel']\n",
            "manggis\n"
          ],
          "output_type":"stream"
        }
      ],
      "metadata":{
        
      }
    },
    {
      "cell_type":"markdown",
      "source":[
        "#### Tips 11. Mengiris (slicing) data"
      ],
      "attachments":{
        
      },
      "metadata":{
        
      }
    },
    {
      "cell_type":"code",
      "source":[
        "data = ['budi', 20, 'andi', 21, 'indah', 19, 'arman', 21]\n",
        "\n",
        "# mengambil data pada indeks ke-0 (atau pertama)\n",
        "print(data[0])\n",
        "\n",
        "# indeks terakhir disimbolkan dengan angka \"-1\"\n",
        "print(data[-1]) \n",
        "\n",
        "# mengambil data pertama hingga sebelum indeks ke-2\n",
        "print(data[:2]) \n",
        "\n",
        "# mengambil data pada indeks -2 hingga terakhir\n",
        "print(data[-2:])\n",
        "\n",
        "# mengambil data dari indeks ke-0 hingga akhir dengan 2 langkah\n",
        "# indeks: 0, 2, 4, 6\n",
        "print(data[::2])\n",
        "\n",
        "# mengambil data dari indeks ke-1 hingga akhir dengan 2 langkah\n",
        "# indeks: 1, 3, 5, 7\n",
        "print(data[1::2]) \n",
        "\n",
        "# mengambil data list secara terbalik\n",
        "print(data[::-1])"
      ],
      "execution_count":35,
      "outputs":[
        {
          "name":"stdout",
          "text":[
            "budi\n",
            "21\n",
            "['budi', 20]\n",
            "['arman', 21]\n",
            "['budi', 'andi', 'indah', 'arman']\n",
            "[20, 21, 19, 21]\n",
            "[21, 'arman', 19, 'indah', 21, 'andi', 20, 'budi']\n"
          ],
          "output_type":"stream"
        }
      ],
      "metadata":{
        
      }
    }
  ],
  "metadata":{
    
  },
  "nbformat":4,
  "nbformat_minor":0
}